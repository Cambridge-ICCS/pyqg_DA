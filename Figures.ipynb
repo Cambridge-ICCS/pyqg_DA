{
 "cells": [
  {
   "cell_type": "code",
   "execution_count": 1,
   "metadata": {
    "tags": []
   },
   "outputs": [
    {
     "name": "stderr",
     "output_type": "stream",
     "text": [
      "INFO:  Logger initialized\n"
     ]
    }
   ],
   "source": [
    "import xarray as xr\n",
    "import numpy as np\n",
    "from matplotlib import pyplot as plt\n",
    "import DA_core as DA\n",
    "from glob import glob\n",
    "import matplotlib.animation as animation\n",
    "from pathlib import Path\n",
    "import seaborn as sns\n",
    "\n",
    "data_dir='/scratch/cimes/feiyul/PyQG/data'\n",
    "# data_dir='/work/Feiyu.Lu/PyQG/data'\n",
    "work_dir='/home/fnl/PyQG/pyqg_experiments/examples/DA'\n",
    "B_kws={'cmap':'bwr','levels':np.linspace(-0.75E-10,0.75E-10,26),'extend':'both'}\n",
    "B_kws0={'cmap':'bwr','levels':np.linspace(-2.5E-12,2.5E-12,26),'extend':'both'}\n",
    "\n",
    "B_kws1={'cmap':'bwr','levels':np.linspace(-0.75E-13,0.75E-13,26),'extend':'both'}\n",
    "B_ens_kws={'cmap':'bwr','levels':np.linspace(-2.5E-11,2.5E-11,26),'extend':'both'}\n",
    "B_ens_kws0={'cmap':'bwr','levels':np.linspace(-2.5E-13,2.5E-13,26),'extend':'both'}\n",
    "B_ens_kws1={'cmap':'bwr','levels':np.linspace(-0.25E-14,0.25E-14,26),'extend':'both'}\n",
    "q_kws={'cmap':'bwr','levels':np.linspace(-3.4E-5,3.4E-5,18),'extend':'both'}\n",
    "q_kws1={'cmap':'bwr','levels':np.linspace(-6.8E-7,6.8E-7,18),'extend':'both'}\n",
    "inc_kws={'cmap':'bwr','levels':np.linspace(-7.5E-6,7.5E-6,16),'extend':'both'}\n",
    "spread_kws={'cmap':'hot_r','levels':np.linspace(0,20E-6,11),'extend':'both'}"
   ]
  },
  {
   "cell_type": "code",
   "execution_count": 9,
   "metadata": {},
   "outputs": [
    {
     "name": "stdout",
     "output_type": "stream",
     "text": [
      "<xarray.DataArray 'q' (model: 1)>\n",
      "array([2.07137509e-07])\n",
      "Coordinates:\n",
      "    lev      int64 2\n",
      "Dimensions without coordinates: model\n",
      "<xarray.DataArray 'q' (model: 1)>\n",
      "array([1.07450788e-05])\n",
      "Coordinates:\n",
      "    lev      int64 1\n",
      "Dimensions without coordinates: model\n"
     ]
    }
   ],
   "source": [
    "# Setting up the truth, obs, etc\n",
    "DA_setup_paras={'nens':1,\n",
    "                'Nx_DA':32,          \n",
    "                'Nx_truth':128,          \n",
    "                'obs_freq':10,          \n",
    "                'obs_err':[1,-6,5,-8],          \n",
    "                'nobs':[100,20]}\n",
    "DA_setup=DA.DA_exp(**DA_setup_paras)\n",
    "ds_truth=DA_setup.read_truth(years=20)\n",
    "print(ds_truth.q.isel(lev=1).std(('time','x','y')))\n",
    "print(ds_truth.q.isel(lev=0).std(('time','x','y')))\n"
   ]
  }
 ],
 "metadata": {
  "interpreter": {
   "hash": "6973bb065886c44b729be95666fc7914cdffcda5c95a8d198f96362135dd92cd"
  },
  "kernelspec": {
   "display_name": "Python 3 (ipykernel)",
   "language": "python",
   "name": "python3"
  },
  "language_info": {
   "codemirror_mode": {
    "name": "ipython",
    "version": 3
   },
   "file_extension": ".py",
   "mimetype": "text/x-python",
   "name": "python",
   "nbconvert_exporter": "python",
   "pygments_lexer": "ipython3",
   "version": "3.10.4"
  }
 },
 "nbformat": 4,
 "nbformat_minor": 4
}
